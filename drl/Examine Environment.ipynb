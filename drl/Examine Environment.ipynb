{
 "cells": [
  {
   "cell_type": "markdown",
   "metadata": {},
   "source": [
    "## Examing Environment"
   ]
  },
  {
   "cell_type": "code",
   "execution_count": 1,
   "metadata": {},
   "outputs": [],
   "source": [
    "import torch\n",
    "import numpy as np\n",
    "import time\n",
    "import os\n",
    "import sys\n",
    "\n",
    "from mlagents.envs.environment import UnityEnvironment\n",
    "import tensorboardX\n",
    "import matplotlib.pyplot as plt\n",
    "%matplotlib inline\n",
    "device = torch.device(\"cuda:0\" if torch.cuda.is_available() else \"cpu\")"
   ]
  },
  {
   "cell_type": "code",
   "execution_count": 2,
   "metadata": {},
   "outputs": [
    {
     "name": "stderr",
     "output_type": "stream",
     "text": [
      "INFO:mlagents.envs:Listening on port 5004. Start training by pressing the Play button in the Unity Editor.\n",
      "INFO:mlagents.envs:\n",
      "'Academy' started successfully!\n",
      "Unity Academy name: Academy\n",
      "        Reset Parameters : {}\n"
     ]
    }
   ],
   "source": [
    "editor_env=True\n",
    "if editor_env:\n",
    "    env_file = None\n",
    "    port = 5004\n",
    "else:\n",
    "    env_file = \"cars\"\n",
    "    port = 5005\n",
    "\n",
    "env = UnityEnvironment(file_name=env_file, base_port=port)"
   ]
  },
  {
   "cell_type": "code",
   "execution_count": 3,
   "metadata": {},
   "outputs": [
    {
     "name": "stderr",
     "output_type": "stream",
     "text": [
      "INFO:mlagents.envs:Connected new brain:\n",
      "Unity brain name: Parking\n",
      "        Number of Visual Observations (per agent): 0\n",
      "        Camera Resolutions: []\n",
      "        Vector Observation space size (per agent): 137\n",
      "        Vector Action space type: continuous\n",
      "        Vector Action space size (per agent): [3]\n",
      "        Vector Action descriptions: \n"
     ]
    },
    {
     "data": {
      "text/plain": [
       "{'Parking': <mlagents.envs.brain.BrainInfo at 0x177c4922780>}"
      ]
     },
     "execution_count": 3,
     "metadata": {},
     "output_type": "execute_result"
    }
   ],
   "source": [
    "env.step()\n",
    "#brain = env.brains[default_brain]"
   ]
  },
  {
   "cell_type": "code",
   "execution_count": 5,
   "metadata": {},
   "outputs": [
    {
     "data": {
      "text/plain": [
       "<mlagents.envs.brain.BrainParameters at 0x177c49226d8>"
      ]
     },
     "execution_count": 5,
     "metadata": {},
     "output_type": "execute_result"
    }
   ],
   "source": [
    "parking_brain_name=env.external_brain_names[0]\n",
    "brain = env.brains[parking_brain_name]\n",
    "brain"
   ]
  },
  {
   "cell_type": "code",
   "execution_count": null,
   "metadata": {},
   "outputs": [],
   "source": [
    "env_info = env.reset(train_mode=True)[parking_brain_name]\n",
    "\n",
    "num_agents = len(env_info.agents)\n",
    "print('Number of agents:', num_agents)\n",
    "\n",
    "# size of each action\n",
    "action_size = brain.vector_action_space_size\n",
    "print('Size of each action:', action_size)\n",
    "\n",
    "# examine the state space\n",
    "states = env_info.vector_observations\n",
    "state_size = states.shape"
   ]
  },
  {
   "cell_type": "code",
   "execution_count": null,
   "metadata": {},
   "outputs": [],
   "source": [
    "env_info = env.reset(train_mode=True)[brain_name]"
   ]
  },
  {
   "cell_type": "code",
   "execution_count": null,
   "metadata": {},
   "outputs": [],
   "source": [
    "env_info1 = env.step(vector_action=[0, 0, 0, 0], text_action=None)[brain_name]\n",
    "\n",
    "obs = env_info1.visual_observations[0][0]\n",
    "plt.imshow(obs.reshape((200, 300)))"
   ]
  },
  {
   "cell_type": "code",
   "execution_count": 12,
   "metadata": {},
   "outputs": [],
   "source": [
    "env.close()"
   ]
  }
 ],
 "metadata": {
  "kernelspec": {
   "display_name": "Python 3",
   "language": "python",
   "name": "python3"
  },
  "language_info": {
   "codemirror_mode": {
    "name": "ipython",
    "version": 3
   },
   "file_extension": ".py",
   "mimetype": "text/x-python",
   "name": "python",
   "nbconvert_exporter": "python",
   "pygments_lexer": "ipython3",
   "version": "3.6.8"
  }
 },
 "nbformat": 4,
 "nbformat_minor": 2
}
